{
 "cells": [
  {
   "cell_type": "markdown",
   "id": "80447ac1",
   "metadata": {},
   "source": [
    "# Computational Methods for Linguistic Typology\n",
    "\n",
    "Matthew J Carroll\n",
    "\n",
    "Australian Linguistic Society 2022 CoEDL Masterclasses"
   ]
  },
  {
   "cell_type": "markdown",
   "id": "9b478891",
   "metadata": {},
   "source": [
    "## Working with data"
   ]
  },
  {
   "cell_type": "markdown",
   "id": "de621a03",
   "metadata": {},
   "source": [
    "Try your first script:"
   ]
  },
  {
   "cell_type": "code",
   "execution_count": 3,
   "id": "6f8e8516",
   "metadata": {},
   "outputs": [],
   "source": [
    "import numpy as np"
   ]
  },
  {
   "cell_type": "code",
   "execution_count": null,
   "id": "edb8923b",
   "metadata": {},
   "outputs": [],
   "source": []
  }
 ],
 "metadata": {
  "kernelspec": {
   "display_name": "Python 3 (ipykernel)",
   "language": "python",
   "name": "python3"
  },
  "language_info": {
   "codemirror_mode": {
    "name": "ipython",
    "version": 3
   },
   "file_extension": ".py",
   "mimetype": "text/x-python",
   "name": "python",
   "nbconvert_exporter": "python",
   "pygments_lexer": "ipython3",
   "version": "3.9.5"
  }
 },
 "nbformat": 4,
 "nbformat_minor": 5
}
