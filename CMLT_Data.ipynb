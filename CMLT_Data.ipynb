{
 "cells": [
  {
   "cell_type": "markdown",
   "metadata": {
    "slideshow": {
     "slide_type": "slide"
    }
   },
   "source": [
    "# Computational Methods for Linguistic Typology\n",
    "\n",
    "\n",
    "## Part 2 - The typological data cycle\n",
    "\n",
    "Matthew J Carroll\n",
    "\n",
    "Australian Linguistic Society 2022 CoEDL Masterclasses"
   ]
  },
  {
   "cell_type": "markdown",
   "metadata": {
    "slideshow": {
     "slide_type": "subslide"
    }
   },
   "source": [
    "<center>\n",
    "<img src=\"Images/datascience.jpg\" width=\"1000\"> "
   ]
  },
  {
   "cell_type": "markdown",
   "metadata": {
    "slideshow": {
     "slide_type": "subslide"
    }
   },
   "source": [
    "<center>\n",
    "<img src=\"Images/typscience.jpg\" width=\"1000\"> "
   ]
  },
  {
   "cell_type": "markdown",
   "metadata": {
    "slideshow": {
     "slide_type": "subslide"
    }
   },
   "source": [
    "## Setting up a work environment"
   ]
  },
  {
   "cell_type": "markdown",
   "metadata": {
    "slideshow": {
     "slide_type": "subslide"
    }
   },
   "source": [
    "- Folder structure w/backup & version control\n",
    "    - [Github](https://github.com/) \n",
    "    - [Cloudstor](https://cloudstor.aarnet.edu.au/)\n",
    "    - Dropbox\n",
    "    - University server\n",
    "- Documentation process\n",
    "- Programming environment (Python/R)\n",
    "    - Jupyter Notebook\n",
    "- Writing environment\n",
    "    - [Overleaf](https://www.overleaf.com/) (Latex)\n",
    "    - Google Docs \n",
    "    - Local\n"
   ]
  },
  {
   "cell_type": "code",
   "execution_count": null,
   "metadata": {},
   "outputs": [],
   "source": []
  },
  {
   "cell_type": "markdown",
   "metadata": {
    "slideshow": {
     "slide_type": "slide"
    }
   },
   "source": [
    "# Identifying a domain"
   ]
  },
  {
   "cell_type": "markdown",
   "metadata": {
    "slideshow": {
     "slide_type": "subslide"
    }
   },
   "source": [
    "<center>\n",
    "<img src=\"Images/typscience.jpg\" width=\"1000\"> "
   ]
  },
  {
   "cell_type": "markdown",
   "metadata": {},
   "source": [
    "- Literature review\n",
    "- Defining an informal 'base' \n",
    "- Anticipating problems"
   ]
  },
  {
   "cell_type": "markdown",
   "metadata": {
    "slideshow": {
     "slide_type": "subslide"
    }
   },
   "source": [
    "## Verbose Exponence\n",
    "\n",
    "|Number|Form|\n",
    "|-----------|-----------|\n",
    "|SG| *wɐ-mdəd-ə* |\n",
    "|DU| *nə-mdəd-anɛ*|\n",
    "|PL|*nə-mdəd-ə*|\n",
    "\n",
    "1 PRS Partial Paradigm of yəmdədə 'to sit' in Yei"
   ]
  },
  {
   "cell_type": "markdown",
   "metadata": {
    "slideshow": {
     "slide_type": "subslide"
    }
   },
   "source": [
    "**Verbose exponence**: *The expression of some category uses more component elements than strictly necessary*"
   ]
  },
  {
   "cell_type": "markdown",
   "metadata": {
    "slideshow": {
     "slide_type": "slide"
    }
   },
   "source": [
    "# Data acquisition"
   ]
  },
  {
   "cell_type": "markdown",
   "metadata": {
    "slideshow": {
     "slide_type": "fragment"
    }
   },
   "source": [
    "<center>\n",
    "<img src=\"Images/typscience.jpg\" width=\"1000\"> "
   ]
  },
  {
   "cell_type": "markdown",
   "metadata": {
    "slideshow": {
     "slide_type": "subslide"
    }
   },
   "source": [
    "<center>\n",
    "    <img src='Images/data.png' width=700>\n"
   ]
  },
  {
   "cell_type": "markdown",
   "metadata": {
    "slideshow": {
     "slide_type": "slide"
    }
   },
   "source": [
    "**How do we know where to look?**"
   ]
  },
  {
   "cell_type": "markdown",
   "metadata": {
    "slideshow": {
     "slide_type": "fragment"
    }
   },
   "source": [
    "<img src=\"Images/pacific_central.jpg\" width=15000>"
   ]
  },
  {
   "cell_type": "markdown",
   "metadata": {
    "slideshow": {
     "slide_type": "subslide"
    }
   },
   "source": [
    "- Inferring possible candidate languages from typological knowledge\n",
    "- Conferring with colleagues"
   ]
  },
  {
   "cell_type": "markdown",
   "metadata": {
    "slideshow": {
     "slide_type": "subslide"
    }
   },
   "source": [
    "<img src=\"Images/library.jpg\" class=\"center\">"
   ]
  },
  {
   "cell_type": "markdown",
   "metadata": {
    "slideshow": {
     "slide_type": "subslide"
    }
   },
   "source": [
    "**How can we speed up the grammar reading process?**"
   ]
  },
  {
   "cell_type": "markdown",
   "metadata": {
    "slideshow": {
     "slide_type": "fragment"
    }
   },
   "source": [
    "- 1 week to sufficiently read a grammar\n",
    "- 25% are relevant to the general topic\n",
    "- < 10% of those fill the distant cells of the typology\n",
    "- 40 weeks to get a single example for 1 cell in the typology"
   ]
  },
  {
   "cell_type": "markdown",
   "metadata": {
    "slideshow": {
     "slide_type": "slide"
    }
   },
   "source": [
    "## Data acquistion: gather data"
   ]
  },
  {
   "cell_type": "markdown",
   "metadata": {
    "slideshow": {
     "slide_type": "subslide"
    }
   },
   "source": [
    "![](Images/babel2.png)"
   ]
  },
  {
   "cell_type": "markdown",
   "metadata": {
    "slideshow": {
     "slide_type": "slide"
    }
   },
   "source": [
    "## Data acquisition: explore the data"
   ]
  },
  {
   "cell_type": "markdown",
   "metadata": {
    "slideshow": {
     "slide_type": "subslide"
    }
   },
   "source": [
    "![](Images/fedden.png)"
   ]
  },
  {
   "cell_type": "markdown",
   "metadata": {
    "slideshow": {
     "slide_type": "subslide"
    }
   },
   "source": [
    "![](Images/newscan.png)"
   ]
  },
  {
   "cell_type": "markdown",
   "metadata": {
    "slideshow": {
     "slide_type": "subslide"
    }
   },
   "source": [
    "![](Images/oldscan.png)"
   ]
  },
  {
   "cell_type": "markdown",
   "metadata": {
    "slideshow": {
     "slide_type": "subslide"
    }
   },
   "source": [
    "![](Images/oldscanbad.png)"
   ]
  },
  {
   "cell_type": "markdown",
   "metadata": {
    "slideshow": {
     "slide_type": "subslide"
    }
   },
   "source": [
    "![](Images/oldscan3.png)"
   ]
  },
  {
   "cell_type": "markdown",
   "metadata": {
    "slideshow": {
     "slide_type": "subslide"
    }
   },
   "source": [
    "Different versions of the same document\n"
   ]
  },
  {
   "cell_type": "markdown",
   "metadata": {
    "slideshow": {
     "slide_type": "fragment"
    }
   },
   "source": [
    "\n",
    "Filename: Author-TextIDYear-Version.pdf\n",
    "\n",
    "- adelaar-amalgamation-malagasy2010.pdf\n",
    "- adelaar-austronesian2013.pdf\n",
    "- adelaar-austronesian-asia-madagascar2005.pdf\n",
    "- adelaar-austronesian-asia-madagascar2005v2.pdf\n",
    "- adelaar-austronesian-historical2005.pdf\n",
    "- adelaar-austronesian-historical2005-o.pdf"
   ]
  },
  {
   "cell_type": "markdown",
   "metadata": {
    "slideshow": {
     "slide_type": "subslide"
    }
   },
   "source": [
    "#### Data understanding report\n",
    "\n",
    "- 10000 > PDFs\n",
    "    - The 'best' reference for a language\n",
    "        - Grammars\n",
    "        - Other descriptive materials\n",
    "- Majority OCR’d\n",
    "    - Already searchable\n",
    "- Varying quality and sources\n",
    "    - Fairly messy and difficult to access\n",
    "- Lots of duplicate files\n",
    "    - Best files have the longest name"
   ]
  },
  {
   "cell_type": "markdown",
   "metadata": {
    "slideshow": {
     "slide_type": "slide"
    }
   },
   "source": [
    "## Data acquisition: update the data"
   ]
  },
  {
   "cell_type": "markdown",
   "metadata": {
    "slideshow": {
     "slide_type": "slide"
    }
   },
   "source": [
    "Before we can search the data we need to:\n",
    "\n",
    "Step 1 - Clean up the PDFs\n",
    "- Sort the collection\n",
    "- Remove bad candidates for searching\n",
    "\n",
    "Step 2 - Extract the text\n",
    "- Existing tool pdftotext.exe\n"
   ]
  },
  {
   "cell_type": "markdown",
   "metadata": {
    "slideshow": {
     "slide_type": "subslide"
    }
   },
   "source": [
    "### Step 1 - Clean the data"
   ]
  },
  {
   "cell_type": "markdown",
   "metadata": {
    "slideshow": {
     "slide_type": "subslide"
    }
   },
   "source": [
    "How do we handle repeated ﬁles?\n",
    "\n",
    "Filename: Author-TextIDYear-Version.pdf\n",
    "\n",
    "- adelaar-amalgamation-malagasy2010.pdf\n",
    "- adelaar-austronesian2013.pdf\n",
    "- adelaar-austronesian-asia-madagascar2005.pdf\n",
    "- adelaar-austronesian-asia-madagascar2005v2.pdf\n",
    "- adelaar-austronesian-historical2005.pdf\n",
    "- adelaar-austronesian-historical2005-o.pdf"
   ]
  },
  {
   "cell_type": "markdown",
   "metadata": {
    "slideshow": {
     "slide_type": "subslide"
    }
   },
   "source": [
    "Import the packages we need:"
   ]
  },
  {
   "cell_type": "code",
   "execution_count": null,
   "metadata": {
    "slideshow": {
     "slide_type": "fragment"
    }
   },
   "outputs": [],
   "source": [
    "import os\n",
    "import re\n",
    "import fnmatch\n",
    "from PyPDF2 import PdfFileReader"
   ]
  },
  {
   "cell_type": "markdown",
   "metadata": {
    "slideshow": {
     "slide_type": "subslide"
    }
   },
   "source": [
    "Our folder containing pdfs:"
   ]
  },
  {
   "cell_type": "code",
   "execution_count": null,
   "metadata": {
    "slideshow": {
     "slide_type": "fragment"
    }
   },
   "outputs": [],
   "source": [
    "pdfdir = os.listdir('./grammars/pdfs/')"
   ]
  },
  {
   "cell_type": "markdown",
   "metadata": {
    "slideshow": {
     "slide_type": "fragment"
    }
   },
   "source": [
    "We want the longest file names:\n",
    "\n",
    "Find files whose names are a substring of another file:"
   ]
  },
  {
   "cell_type": "code",
   "execution_count": null,
   "metadata": {
    "slideshow": {
     "slide_type": "fragment"
    }
   },
   "outputs": [],
   "source": [
    "subsetlst = []\n",
    "\n",
    "for file in pdfdir:\n",
    "    filestring = file[0:-4] + '.+' + '\\.pdf'\n",
    "    regex = re.compile(filestring) # <filename>.+\\.pdf\n",
    "    for file2 in pdfdir:\n",
    "        if regex.match(file2):\n",
    "            subsetlst.append(file) "
   ]
  },
  {
   "cell_type": "code",
   "execution_count": null,
   "metadata": {},
   "outputs": [],
   "source": [
    "len(subsetlst)"
   ]
  },
  {
   "cell_type": "markdown",
   "metadata": {
    "slideshow": {
     "slide_type": "subslide"
    }
   },
   "source": [
    "Another method:"
   ]
  },
  {
   "cell_type": "code",
   "execution_count": null,
   "metadata": {
    "slideshow": {
     "slide_type": "fragment"
    }
   },
   "outputs": [],
   "source": [
    "subsetlst2 = []\n",
    "\n",
    "for file in pdfdir:\n",
    "    filestring = file[0:-4] \n",
    "    for file2 in pdfdir:\n",
    "        file2string = file2[0:-4]\n",
    "        if filestring == file2string: \n",
    "            pass\n",
    "        elif filestring in file2string: \n",
    "            subsetlst2.append(file)  "
   ]
  },
  {
   "cell_type": "markdown",
   "metadata": {
    "slideshow": {
     "slide_type": "subslide"
    }
   },
   "source": [
    "Make a list of the files whose names aren't a subset of another:"
   ]
  },
  {
   "cell_type": "code",
   "execution_count": null,
   "metadata": {
    "slideshow": {
     "slide_type": "fragment"
    }
   },
   "outputs": [],
   "source": [
    "uniqlst = []     \n",
    "\n",
    "for file in pdfdir:\n",
    "    if file not in subsetlst:\n",
    "        uniqlst.append(file)"
   ]
  },
  {
   "cell_type": "markdown",
   "metadata": {
    "slideshow": {
     "slide_type": "subslide"
    }
   },
   "source": [
    "### Quality analyser\n",
    "\n",
    "\n",
    "\n"
   ]
  },
  {
   "cell_type": "markdown",
   "metadata": {
    "slideshow": {
     "slide_type": "fragment"
    }
   },
   "source": [
    "- How do we work out what is a good quality pdf?\n",
    "- High quality scans ≠ Good quality OCR\n"
   ]
  },
  {
   "cell_type": "markdown",
   "metadata": {
    "slideshow": {
     "slide_type": "subslide"
    }
   },
   "source": [
    "<img src=\"Images/goodscan.png\" class=\"center\">"
   ]
  },
  {
   "cell_type": "markdown",
   "metadata": {
    "slideshow": {
     "slide_type": "subslide"
    }
   },
   "source": [
    "How do we work out what is a good quality pdf?\n",
    "- Clear text on white pages\n",
    "- Prefer generated PDFs\n",
    "- Very clean scans on text mode\n",
    "- Lower file sizes"
   ]
  },
  {
   "cell_type": "markdown",
   "metadata": {
    "slideshow": {
     "slide_type": "subslide"
    }
   },
   "source": [
    "pdfqual:\n",
    "\n",
    "- File size / Number of pages\n",
    "- Asks for a threshold (20,000 default)\n",
    "- Prints out a list of the files from the previous list of all pdfs which are < threshold"
   ]
  },
  {
   "cell_type": "code",
   "execution_count": null,
   "metadata": {},
   "outputs": [],
   "source": [
    "threshold = input('Enter quality threshold in bytes (Basic 20000): ')\n",
    "\n",
    "cleanpdfs = []\n",
    "\n",
    "for file in uniqlst:\n",
    "    pdf = PdfFileReader('./grammars/pdfs/' + file,)\n",
    "    pages = pdf.getNumPages()\n",
    "    size = os.stat('./grammars/pdfs/' + file).st_size\n",
    "    qual = size / pages\n",
    "    if qual < float(threshold):\n",
    "        cleanpdfs.append((str(file),str(qual)))"
   ]
  },
  {
   "cell_type": "code",
   "execution_count": null,
   "metadata": {},
   "outputs": [],
   "source": [
    "cleanpdfs"
   ]
  },
  {
   "cell_type": "markdown",
   "metadata": {
    "slideshow": {
     "slide_type": "subslide"
    }
   },
   "source": [
    "### Step 2 - Scrape the text"
   ]
  },
  {
   "cell_type": "markdown",
   "metadata": {
    "slideshow": {
     "slide_type": "fragment"
    }
   },
   "source": [
    "\n",
    "`for /F \"tokens=1\" %%A in (.\\statfile.tsv) do .\\pdftotext.exe -enc UTF-8 ..\\pdfs\\%%A .\\texts\\%%A.txt`\n"
   ]
  },
  {
   "cell_type": "markdown",
   "metadata": {
    "slideshow": {
     "slide_type": "slide"
    }
   },
   "source": [
    "### Gather the data"
   ]
  },
  {
   "cell_type": "markdown",
   "metadata": {
    "slideshow": {
     "slide_type": "subslide"
    }
   },
   "source": [
    "<center>\n",
    "    <img src='Images/data.png' width=700>\n"
   ]
  },
  {
   "cell_type": "markdown",
   "metadata": {
    "slideshow": {
     "slide_type": "subslide"
    }
   },
   "source": [
    "*Search for the same gloss twice in the one word*"
   ]
  },
  {
   "cell_type": "code",
   "execution_count": null,
   "metadata": {
    "slideshow": {
     "slide_type": "fragment"
    }
   },
   "outputs": [],
   "source": [
    "leipzig = ['1','2','3','1SG','1DU', '1DL','1PL','2SG','2DU','2DL','2PL' '3SG','3DU','3DL','3PL','ABE','ABL','ABS','ACC','ACCOM','ACT','ADJ','ADE','ADM','ADV','AFF','AG','AGT','AGR','ALL','AL','ALLOC','ALIEN','AN','AND','ANT','ANTE','ANTIC','ANTIP','AP','AOR','APP','APL','APPL','APPR','APRX','ART','ASP','ASS','AT','ATT','AUD','AUG','AUX','BEN','CAP','CAU','CAUS','CENT','CF','CL','CNSQ','COL','COM','COMP','COMPL','CPL','CONC','COND','CONJ','CONT','CTN','CNTR','COP','COR','CRAS','CRS','DAT','DE','DEC','DECL','DEF','DEL','DEL','DEO','DEP','DES','DESI','DEST','DIM','DIR','DISJ','DIST','DISTR','DITR','DLM','DU','DUB','DUR','DY','DYAD','DYN','ELA','EMP','EPIS','ERG','ESS','EV','EVID','EVIT','EX','EXCL','EXCLAM','DUR','EXESS','EXH','EXIST','EXO','EXP','EXPER','FEM','FACT','FOC','FORM','FP','FR','FREQ','FUT','GEN','GER','GNO','GT','HAB','HBL','HEST','HIST','HOD','HON','HORT','HSY','HUM','HYP','IGNOR','ILL','IMM','IMP','IMPERF','IMPR','IMPREC','INCH','INCHO','INCEP','IND','INDF','NDEF','INE','INF','INFER','INFR','INEL','INS','INSTR','INT','NTR','INV','IO','IPFV','IRR','IS','ITER','JUS','LAT','LD','LOC','LOG','MASC','MID','MIM','MIR','MLT','MLTP','MOD','MOM','NEUT','NEG','NMZ','NZ','NOMI','NOM','NS','NUM','OBJ','OB','OBL','OBV','OPT','PART','PAS','PASS','PAT','PA','PAU','PEG','PER','PERF','PRF','PERS','PFV','PL','PLU','PLUR','PN','PRO','PO','POL','POS','POSS','POST','POSTE','POSTEL','POT','PP','PPFV','PPP','PR','PREC','PRED','PREP','PRESP','PRET','PRT','PRF','PERF','PRIV','PRS','PRES','PROB','PROG','PROH','PROL','PROP','PROS','PROSP','PRSP','PROT','PROX','PST','PT','PTCP','PCP','PTV','PURP','QUOT','REAL','REC','RECP','REF','RFR','REFL','REL','REM','REP','RES','RET','SBJ','SUB','SBJV','SJV','SE','SEM','SENS','SEQ','SG','SGV','SIM','SJV','SBJV','SPEC','SS','STAT','STV','SUB','SU','SUBR','SUBORD','SBRD','SR','SUBE','SUBL','SUC','SUP','SUPE','TAM','TEL','TEMP','TERM','TNS','TOP','TR','TRANS','TRANSL','TRI','TRN','TVF','UH','UND','UR','USIT','VB','VBZ','VD','VEN','VER','VIA','VIS','VI','VN','VOC','VOL','VT','WH']"
   ]
  },
  {
   "cell_type": "code",
   "execution_count": null,
   "metadata": {
    "slideshow": {
     "slide_type": "fragment"
    }
   },
   "outputs": [],
   "source": [
    "with open(\"multiple_exponence.tsv\", 'w') as results:\n",
    "    for lang in os.listdir('./grammars/texts/'):\n",
    "        print(lang) #provides feedback so we can see this\n",
    "        for gloss in leipzig:\n",
    "            page = 1\n",
    "            linenum = 0 \n",
    "            rex1 = str(gloss) + \"[\\|\\\\\\.\\-][^\\d\\s]+[\\|\\\\\\.\\-]\" + str(gloss) \n",
    "            rex2 = \"[^\\d][\\|\\\\\\.\\-]?\" + str(gloss) + \"\\-\" + str(gloss) + \"[\\|\\\\\\.\\-]?[^\\d]\"\n",
    "            regex = \"(\" + rex1 + \")|(\" + rex2 + \")\"\n",
    "            filename = './grammars/texts/' + lang\n",
    "            with open(filename) as file:\n",
    "                for line in file:\n",
    "                    if '\\x0c' in line:\n",
    "                        page = page + 1\n",
    "                        continue\n",
    "                    linenum = linenum + 1\n",
    "                    glossline = re.findall(regex, line)# To ignorecase: add after comma in parenth: flags=re.IGNORECASE\n",
    "                    for thing in glossline:\n",
    "                        output = str(gloss) + '\\t' + lang + '\\t' + str(linenum) + '\\t' + str(page) + '\\t' + str(line) \n",
    "                        results.write(output)"
   ]
  },
  {
   "cell_type": "markdown",
   "metadata": {
    "slideshow": {
     "slide_type": "slide"
    }
   },
   "source": [
    "## Exploring the data"
   ]
  },
  {
   "cell_type": "markdown",
   "metadata": {
    "slideshow": {
     "slide_type": "subslide"
    }
   },
   "source": [
    "<center>\n",
    "    <img src='Images/data.png' width=700>\n"
   ]
  },
  {
   "cell_type": "markdown",
   "metadata": {
    "slideshow": {
     "slide_type": "subslide"
    }
   },
   "source": [
    "### pandas\n",
    "\n",
    "- Data analysis-software library for Python\n",
    "- R users = 'dplyr'\n",
    "- MS Excel for Python\n",
    "- Uses dataframes for the manipulation and analysis of data\n"
   ]
  },
  {
   "cell_type": "code",
   "execution_count": 2,
   "metadata": {
    "slideshow": {
     "slide_type": "fragment"
    }
   },
   "outputs": [],
   "source": [
    "import pandas as pd"
   ]
  },
  {
   "cell_type": "code",
   "execution_count": 3,
   "metadata": {
    "slideshow": {
     "slide_type": "subslide"
    }
   },
   "outputs": [],
   "source": [
    "me_df = pd.read_csv(\"multiple_exponence.tsv\",\n",
    "                 sep='\\t',\n",
    "                 names=[\"Gloss\", \"File\", \"Line\", \"Page\", \"Match\"])\n",
    " "
   ]
  },
  {
   "cell_type": "code",
   "execution_count": null,
   "metadata": {},
   "outputs": [],
   "source": []
  },
  {
   "cell_type": "code",
   "execution_count": null,
   "metadata": {},
   "outputs": [],
   "source": []
  },
  {
   "cell_type": "code",
   "execution_count": null,
   "metadata": {},
   "outputs": [],
   "source": []
  },
  {
   "cell_type": "code",
   "execution_count": null,
   "metadata": {},
   "outputs": [],
   "source": []
  },
  {
   "cell_type": "code",
   "execution_count": null,
   "metadata": {},
   "outputs": [],
   "source": []
  },
  {
   "cell_type": "code",
   "execution_count": null,
   "metadata": {},
   "outputs": [],
   "source": []
  },
  {
   "cell_type": "code",
   "execution_count": null,
   "metadata": {},
   "outputs": [],
   "source": []
  },
  {
   "cell_type": "code",
   "execution_count": null,
   "metadata": {},
   "outputs": [],
   "source": []
  },
  {
   "cell_type": "markdown",
   "metadata": {
    "slideshow": {
     "slide_type": "slide"
    }
   },
   "source": [
    "# Building datasets"
   ]
  },
  {
   "cell_type": "markdown",
   "metadata": {
    "slideshow": {
     "slide_type": "subslide"
    }
   },
   "source": [
    "<center>\n",
    "<img src=\"Images/typscience.jpg\" width=\"1000\"> "
   ]
  },
  {
   "cell_type": "markdown",
   "metadata": {
    "slideshow": {
     "slide_type": "slide"
    }
   },
   "source": [
    "### Types of data"
   ]
  },
  {
   "cell_type": "markdown",
   "metadata": {
    "slideshow": {
     "slide_type": "subslide"
    }
   },
   "source": [
    "https://wals.info/\n"
   ]
  },
  {
   "cell_type": "markdown",
   "metadata": {
    "slideshow": {
     "slide_type": "fragment"
    }
   },
   "source": [
    "https://www.smg.surrey.ac.uk/syncretism/\n"
   ]
  },
  {
   "cell_type": "markdown",
   "metadata": {
    "slideshow": {
     "slide_type": "fragment"
    }
   },
   "source": [
    "https://lexicalsplitsdb.surrey.ac.uk/"
   ]
  },
  {
   "cell_type": "markdown",
   "metadata": {
    "slideshow": {
     "slide_type": "fragment"
    }
   },
   "source": [
    "https://github.com/autotyp/autotyp-data/tree/0.1.0\n"
   ]
  },
  {
   "cell_type": "markdown",
   "metadata": {
    "slideshow": {
     "slide_type": "fragment"
    }
   },
   "source": [
    "https://zenodo.org/record/4898419#.Yas2mNBByUk\n"
   ]
  },
  {
   "cell_type": "markdown",
   "metadata": {
    "slideshow": {
     "slide_type": "fragment"
    }
   },
   "source": [
    "https://sacha.beniamine.net/dataset/beniamine-maiden-round-2019/\n"
   ]
  },
  {
   "cell_type": "markdown",
   "metadata": {
    "slideshow": {
     "slide_type": "fragment"
    }
   },
   "source": [
    "https://www.gerlingo.com/"
   ]
  },
  {
   "cell_type": "markdown",
   "metadata": {
    "slideshow": {
     "slide_type": "subslide"
    }
   },
   "source": [
    "Move away from *databases* and toward *datasets*\n",
    "\n",
    "- Data set is a collection of data in a tabular format\n",
    "- Query the data directly\n",
    "- Generalisable across projects\n",
    "- As close to language data as possible"
   ]
  },
  {
   "cell_type": "markdown",
   "metadata": {
    "slideshow": {
     "slide_type": "slide"
    }
   },
   "source": [
    "# Data/Code Sharing"
   ]
  },
  {
   "cell_type": "markdown",
   "metadata": {
    "slideshow": {
     "slide_type": "subslide"
    }
   },
   "source": [
    "<center>\n",
    "<img src=\"Images/typscience.jpg\" width=\"1000\"> "
   ]
  },
  {
   "cell_type": "markdown",
   "metadata": {
    "slideshow": {
     "slide_type": "subslide"
    }
   },
   "source": [
    "## Why share your data and code?"
   ]
  },
  {
   "cell_type": "markdown",
   "metadata": {
    "slideshow": {
     "slide_type": "fragment"
    }
   },
   "source": [
    "1. Reproducibility\n",
    "2. Journals require it\n",
    "3. Learn a lot\n",
    "4. Extends the impact of your project\n",
    "5. Build a portfolio"
   ]
  },
  {
   "cell_type": "markdown",
   "metadata": {
    "slideshow": {
     "slide_type": "slide"
    }
   },
   "source": [
    "## Data"
   ]
  },
  {
   "cell_type": "markdown",
   "metadata": {
    "slideshow": {
     "slide_type": "subslide"
    }
   },
   "source": [
    "‘FAIR Guiding Principles for scientific data management and stewardship’ were published in *Scientific Data 2006*. https://www.go-fair.org/fair-principles/\n",
    "\n",
    "\n",
    "**F**indable\n",
    "- Will anyone else know that your data exists?\n",
    "    - Solutions: put it in a standard repository, or at least a description of the data. Get a digital object identifier (DOI).\n",
    "    \n",
    "**A**ccessible\n",
    "- Once someone knows that the data exists, can they get it?\n",
    "    - Usually solved by being in a repository, but for non-open data, may require more procedures.\n",
    "\n",
    "**I**nteroperable\n",
    "-  your data in a format that can be used by others, like csv instead of PDF?\n",
    "\n",
    "**R**eusable\n",
    "- Is there a license allowing others to re-use?\n"
   ]
  },
  {
   "cell_type": "markdown",
   "metadata": {
    "slideshow": {
     "slide_type": "subslide"
    }
   },
   "source": [
    "### Sharing on Zenodo\n",
    "\n",
    "Directly:\n",
    "- Easy\n",
    "- Good for finalised datasets that wont change\n",
    "\n",
    "Github:\n",
    "- A couple more steps\n",
    "- Allows version control"
   ]
  },
  {
   "cell_type": "markdown",
   "metadata": {
    "slideshow": {
     "slide_type": "subslide"
    }
   },
   "source": [
    "https://zenodo.org/\n",
    "\n",
    "https://sandbox.zenodo.org/login/\n"
   ]
  }
 ],
 "metadata": {
  "celltoolbar": "Slideshow",
  "kernelspec": {
   "display_name": "Python 3",
   "language": "python",
   "name": "python3"
  },
  "language_info": {
   "codemirror_mode": {
    "name": "ipython",
    "version": 3
   },
   "file_extension": ".py",
   "mimetype": "text/x-python",
   "name": "python",
   "nbconvert_exporter": "python",
   "pygments_lexer": "ipython3",
   "version": "3.8.10"
  }
 },
 "nbformat": 4,
 "nbformat_minor": 4
}
