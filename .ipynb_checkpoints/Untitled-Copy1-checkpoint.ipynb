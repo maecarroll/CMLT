{
 "cells": [
  {
   "cell_type": "markdown",
   "metadata": {},
   "source": [
    "# Typology of Morphological Exponence (pyTomex)"
   ]
  },
  {
   "cell_type": "markdown",
   "metadata": {},
   "source": [
    "An implementation of the model of exponence as informativeness from Carroll (2021)"
   ]
  },
  {
   "cell_type": "markdown",
   "metadata": {},
   "source": [
    "Packages:"
   ]
  },
  {
   "cell_type": "code",
   "execution_count": 1,
   "metadata": {},
   "outputs": [],
   "source": [
    "import pandas as pd\n"
   ]
  },
  {
   "cell_type": "markdown",
   "metadata": {},
   "source": [
    "Data:"
   ]
  },
  {
   "cell_type": "code",
   "execution_count": 2,
   "metadata": {},
   "outputs": [],
   "source": [
    "ngkolmpu_df = pd.read_csv(\"data/ngkolmpu_data_example.csv\")\n"
   ]
  },
  {
   "cell_type": "markdown",
   "metadata": {},
   "source": [
    "i_sig function returns the $I_\\sigma$ relations of a given formative as a set:\n",
    "\n",
    "- sig = feature column of dataframe\n",
    "- pos = position data of formative\n",
    "- form = phonological component of formative\n",
    "- lex = lexeme\n",
    "- df = data frame of inflected lexicon"
   ]
  },
  {
   "cell_type": "code",
   "execution_count": 3,
   "metadata": {},
   "outputs": [],
   "source": [
    "def i_sig (sig, pos, form, lex, df):\n",
    "    dist = df[df[pos] == form]\n",
    "    dist_sig = set(dist[sig][dist.l_0 == lex])\n",
    "    v_sig = set(df[sig])\n",
    "    I_sig = set()\n",
    "    if dist_sig < v_sig:\n",
    "        I_sig = dist_sig\n",
    "    return I_sig\n",
    "    "
   ]
  },
  {
   "cell_type": "code",
   "execution_count": 4,
   "metadata": {},
   "outputs": [
    {
     "data": {
      "text/plain": [
       "set()"
      ]
     },
     "execution_count": 4,
     "metadata": {},
     "output_type": "execute_result"
    }
   ],
   "source": [
    "i_sig('c_plur', 'f_p2', 's', 'TOUCH', ngkolmpu_df)"
   ]
  },
  {
   "cell_type": "markdown",
   "metadata": {},
   "source": [
    "i_sig_all function returns all the $I_\\sigma$ relations of a formative for a given paradigm as a dictionary"
   ]
  },
  {
   "cell_type": "code",
   "execution_count": 5,
   "metadata": {},
   "outputs": [],
   "source": [
    "def i_sig_all (pos, form, lex, df):\n",
    "    i_sig_all_out = {}\n",
    "    for sig in [col for col in df if col.startswith('c_')]: #We could define this as a variable outside the function at some point along with the values.:\n",
    "        i_sig_all_out[sig] = i_sig(sig, pos, form, lex, df)\n",
    "    return i_sig_all_out\n",
    "        "
   ]
  },
  {
   "cell_type": "code",
   "execution_count": 6,
   "metadata": {},
   "outputs": [
    {
     "data": {
      "text/plain": [
       "{'c_tnsmood': {'futign', 'futirr', 'hod', 'imp', 'rct', 'rmt'},\n",
       " 'c_aspect': {'dur', 'pfv'},\n",
       " 'c_Aper': set(),\n",
       " 'c_Anum': set(),\n",
       " 'c_Uper': {'2U', '3U'},\n",
       " 'c_Unum': {'nsgU'},\n",
       " 'c_plur': set()}"
      ]
     },
     "execution_count": 6,
     "metadata": {},
     "output_type": "execute_result"
    }
   ],
   "source": [
    "i_sig_all('f_p2', 's', 'TOUCH', ngkolmpu_df)"
   ]
  },
  {
   "cell_type": "markdown",
   "metadata": {},
   "source": [
    "Paradigm analyser:\n",
    "\n",
    "Prints out the $I_\\sigma$ relations of every formative in a paradigm and stores these as a dictionary.\n"
   ]
  },
  {
   "cell_type": "code",
   "execution_count": 7,
   "metadata": {},
   "outputs": [],
   "source": [
    "def lexAnalyse(lex, df):\n",
    "    para = {}\n",
    "      \n",
    "    for pos in [col for col in df if col.startswith('f_')]:\n",
    "        forms = df[pos].unique()\n",
    "        \n",
    "        for form in forms:\n",
    "            if pd.isna(form):\n",
    "                pass\n",
    "            else:\n",
    "                posform = (pos, form)\n",
    "                para[posform] = i_sig_all(pos, form, lex, df)\n",
    "            \n",
    "    return para\n"
   ]
  },
  {
   "cell_type": "markdown",
   "metadata": {},
   "source": [
    "Classifies a language specific dataframe with repsect to the typologies of multiple exponence."
   ]
  },
  {
   "cell_type": "code",
   "execution_count": 10,
   "metadata": {},
   "outputs": [],
   "source": [
    "def classify_VE(lex, df):\n",
    "    table = []\n",
    "    \n",
    "    formval = lexAnalyse(lex, df)\n",
    "    \n",
    "    for word in df.iloc:\n",
    "        \n",
    "        formatives = []\n",
    "        for pos in [col for col in df if col.startswith('f_')]:\n",
    "            \n",
    "            if pd.isna(word[pos]):\n",
    "                pass\n",
    "            else:\n",
    "                posform = (pos, word[pos])\n",
    "                formatives.append(posform)\n",
    "        \n",
    "        for pair in [(formatives[i],formatives[j]) for i in range(len(formatives)) for j in range(i+1, len(formatives))]:\n",
    "            cell = set()\n",
    "            for sig in [col for col in df if col.startswith('c_')]:\n",
    "                cell.add(word[sig])\n",
    "                forma = pair[0] #('f_s3', 'ai')\n",
    "                formb = pair[1]\n",
    "                if formval[forma][sig] & formval[formb][sig]:\n",
    "                    if formval[forma][sig] == formval[formb][sig]:\n",
    "                        typ = 'ME'\n",
    "                    elif formval[forma][sig].issubset(formval[formb][sig]) or formval[formb][sig].issubset(formval[forma][sig]):\n",
    "                        typ = 'SE'\n",
    "                    else:\n",
    "                        typ = 'DE'\n",
    "                    \n",
    "                    table.append({'Wordform': word['wordform'],\n",
    "                                  'Cell': cell,\n",
    "                                  'Value': word[sig],\n",
    "                                    'FormA':forma,\n",
    "                                    'FormB':formb,\n",
    "                                    'Type': typ})\n",
    "    return table\n",
    "        "
   ]
  },
  {
   "cell_type": "code",
   "execution_count": 16,
   "metadata": {},
   "outputs": [],
   "source": [
    "ve_df = pd.DataFrame()\n",
    "\n",
    "df_ve = classify_VE('TOUCH', ngkolmpu_df)"
   ]
  },
  {
   "cell_type": "code",
   "execution_count": 17,
   "metadata": {},
   "outputs": [],
   "source": [
    "ve_df = ve_df.append(df_ve)"
   ]
  },
  {
   "cell_type": "code",
   "execution_count": 18,
   "metadata": {},
   "outputs": [
    {
     "data": {
      "text/html": [
       "<div>\n",
       "<style scoped>\n",
       "    .dataframe tbody tr th:only-of-type {\n",
       "        vertical-align: middle;\n",
       "    }\n",
       "\n",
       "    .dataframe tbody tr th {\n",
       "        vertical-align: top;\n",
       "    }\n",
       "\n",
       "    .dataframe thead th {\n",
       "        text-align: right;\n",
       "    }\n",
       "</style>\n",
       "<table border=\"1\" class=\"dataframe\">\n",
       "  <thead>\n",
       "    <tr style=\"text-align: right;\">\n",
       "      <th></th>\n",
       "      <th>Wordform</th>\n",
       "      <th>Cell</th>\n",
       "      <th>Value</th>\n",
       "      <th>FormA</th>\n",
       "      <th>FormB</th>\n",
       "      <th>Type</th>\n",
       "    </tr>\n",
       "  </thead>\n",
       "  <tbody>\n",
       "    <tr>\n",
       "      <th>0</th>\n",
       "      <td>ntpinont</td>\n",
       "      <td>{2U, sgA, sgU, npl, futirr, dur, 1A}</td>\n",
       "      <td>futirr</td>\n",
       "      <td>(f_p2, nt)</td>\n",
       "      <td>(f_s1, nt)</td>\n",
       "      <td>SE</td>\n",
       "    </tr>\n",
       "    <tr>\n",
       "      <th>1</th>\n",
       "      <td>ntpinont</td>\n",
       "      <td>{2U, sgA, sgU, npl, futirr, dur, 1A}</td>\n",
       "      <td>dur</td>\n",
       "      <td>(f_p2, nt)</td>\n",
       "      <td>(f_s1, nt)</td>\n",
       "      <td>ME</td>\n",
       "    </tr>\n",
       "    <tr>\n",
       "      <th>2</th>\n",
       "      <td>ntpinont</td>\n",
       "      <td>{2U, sgA, pl, sgU, futirr, dur, 1A}</td>\n",
       "      <td>futirr</td>\n",
       "      <td>(f_p2, nt)</td>\n",
       "      <td>(f_s1, nt)</td>\n",
       "      <td>SE</td>\n",
       "    </tr>\n",
       "    <tr>\n",
       "      <th>3</th>\n",
       "      <td>ntpinont</td>\n",
       "      <td>{2U, sgA, pl, sgU, futirr, dur, 1A}</td>\n",
       "      <td>dur</td>\n",
       "      <td>(f_p2, nt)</td>\n",
       "      <td>(f_s1, nt)</td>\n",
       "      <td>ME</td>\n",
       "    </tr>\n",
       "    <tr>\n",
       "      <th>4</th>\n",
       "      <td>srpinont</td>\n",
       "      <td>{2U, sgA, npl, futirr, nsgU, dur, 1A}</td>\n",
       "      <td>futirr</td>\n",
       "      <td>(f_p2, s)</td>\n",
       "      <td>(f_p3, r)</td>\n",
       "      <td>SE</td>\n",
       "    </tr>\n",
       "  </tbody>\n",
       "</table>\n",
       "</div>"
      ],
      "text/plain": [
       "   Wordform                                   Cell   Value       FormA  \\\n",
       "0  ntpinont   {2U, sgA, sgU, npl, futirr, dur, 1A}  futirr  (f_p2, nt)   \n",
       "1  ntpinont   {2U, sgA, sgU, npl, futirr, dur, 1A}     dur  (f_p2, nt)   \n",
       "2  ntpinont    {2U, sgA, pl, sgU, futirr, dur, 1A}  futirr  (f_p2, nt)   \n",
       "3  ntpinont    {2U, sgA, pl, sgU, futirr, dur, 1A}     dur  (f_p2, nt)   \n",
       "4  srpinont  {2U, sgA, npl, futirr, nsgU, dur, 1A}  futirr   (f_p2, s)   \n",
       "\n",
       "        FormB Type  \n",
       "0  (f_s1, nt)   SE  \n",
       "1  (f_s1, nt)   ME  \n",
       "2  (f_s1, nt)   SE  \n",
       "3  (f_s1, nt)   ME  \n",
       "4   (f_p3, r)   SE  "
      ]
     },
     "execution_count": 18,
     "metadata": {},
     "output_type": "execute_result"
    }
   ],
   "source": [
    "ve_df.head()"
   ]
  },
  {
   "cell_type": "code",
   "execution_count": 19,
   "metadata": {},
   "outputs": [
    {
     "data": {
      "text/plain": [
       "4780"
      ]
     },
     "execution_count": 19,
     "metadata": {},
     "output_type": "execute_result"
    }
   ],
   "source": [
    "len(ve_df)"
   ]
  },
  {
   "cell_type": "code",
   "execution_count": null,
   "metadata": {},
   "outputs": [],
   "source": []
  }
 ],
 "metadata": {
  "kernelspec": {
   "display_name": "Python 3",
   "language": "python",
   "name": "python3"
  },
  "language_info": {
   "codemirror_mode": {
    "name": "ipython",
    "version": 3
   },
   "file_extension": ".py",
   "mimetype": "text/x-python",
   "name": "python",
   "nbconvert_exporter": "python",
   "pygments_lexer": "ipython3",
   "version": "3.8.10"
  }
 },
 "nbformat": 4,
 "nbformat_minor": 4
}
