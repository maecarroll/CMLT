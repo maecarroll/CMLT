{
 "cells": [
  {
   "cell_type": "markdown",
   "metadata": {
    "slideshow": {
     "slide_type": "slide"
    }
   },
   "source": [
    " # Computational Methods for Linguistic Typology\n",
    "\n",
    "## Part 3 - Typological modelling\n",
    "\n",
    "Matthew J Carroll\n",
    "\n",
    "Australian Linguistic Society 2021 CoEDL Masterclasses"
   ]
  },
  {
   "cell_type": "markdown",
   "metadata": {
    "slideshow": {
     "slide_type": "subslide"
    }
   },
   "source": [
    "<center>\n",
    "<img src=\"Images/typscience.jpg\" width=\"1000\"> "
   ]
  },
  {
   "cell_type": "markdown",
   "metadata": {
    "slideshow": {
     "slide_type": "subslide"
    }
   },
   "source": [
    "Data set\n",
    "\n",
    "```\n",
    "Doculect,l_0,c_tnsmood,c_aspect,c_Aper,c_Anum,c_Uper,c_Unum,C_plur,wordform,f_p1,f_p2,f_p3,f_stem,f_s1,f_s2,f_s3\n",
    "Ngkolmpu,TOUCH,futirr,dur,1,sg,2,sg,npl,ntpinont,,nt,,pino,nt,,\n",
    "Ngkolmpu,TOUCH,futirr,dur,1,sg,2,sg,pl,ntpinont,,nt,,pino,nt,,\n",
    "Ngkolmpu,TOUCH,futirr,dur,1,sg,2,nsg,npl,srpinont,,s,r,pino,nt,,\n",
    "Ngkolmpu,TOUCH,futirr,dur,1,sg,2,nsg,pl,srpinont,,s,r,pino,nt,,\n",
    "Ngkolmpu,TOUCH,futirr,dur,1,sg,3,nsg,npl,srpinont,,s,r,pino,nt,,\n",
    "Ngkolmpu,TOUCH,futirr,dur,1,sg,3,nsg,pl,srpinont,,s,r,pino,nt,,\n",
    "Ngkolmpu,TOUCH,futirr,dur,1,nsg,2,sg,npl,ntpinontey,,nt,,pino,nt,,ey\n",
    "Ngkolmpu,TOUCH,futirr,dur,1,nsg,2,sg,pl,ntpinontey,,nt,,pino,nt,,ey\n",
    "Ngkolmpu,TOUCH,futirr,dur,1,nsg,2,nsg,npl,srpinontey,,s,r,pino,nt,,ey\n",
    "Ngkolmpu,TOUCH,futirr,dur,1,nsg,2,nsg,pl,srpinontey,,s,r,pino,nt,,ey\n",
    "...\n",
    "```\n"
   ]
  },
  {
   "cell_type": "markdown",
   "metadata": {
    "slideshow": {
     "slide_type": "slide"
    }
   },
   "source": [
    "## Verbose exponence"
   ]
  },
  {
   "cell_type": "markdown",
   "metadata": {
    "slideshow": {
     "slide_type": "subslide"
    }
   },
   "source": [
    "![](Images/ME.jpg)"
   ]
  },
  {
   "cell_type": "markdown",
   "metadata": {
    "slideshow": {
     "slide_type": "subslide"
    }
   },
   "source": [
    "3rd person present forms of Nen *tromngr* 'be erected' (Evans 2015)\n",
    "\n",
    "|Number|Form|\n",
    "|----------------|---------------|\n",
    "|SG\t|\ty-trom-ngr |\n",
    "|DU\t|   yä-trom-aran |\n",
    "|PL\t|   yä-trom-ngr|\n",
    "|LPL\t|\ty-trom-aran |"
   ]
  },
  {
   "cell_type": "markdown",
   "metadata": {
    "slideshow": {
     "slide_type": "subslide"
    }
   },
   "source": [
    "1st Present forms of Yei yəmdədə ‘to be sitting’ (Carroll, Fieldnotes)\n",
    "\n",
    "|Number|Form|\n",
    "|-----------|-----------|\n",
    "|SG| *wɐ-mdəd-ə* |\n",
    "|DU| *nə-mdəd-anɛ*|\n",
    "|PL|*nə-mdəd-ə*|\n"
   ]
  },
  {
   "cell_type": "markdown",
   "metadata": {
    "slideshow": {
     "slide_type": "subslide"
    }
   },
   "source": [
    "*Verbose exponence*: Two (or more) co-occurring formatives which both provide *some information about* a feature, bundle of features or derivational category in more than one position in a domain"
   ]
  },
  {
   "cell_type": "markdown",
   "metadata": {
    "slideshow": {
     "slide_type": "slide"
    }
   },
   "source": [
    "## Defining our assumptions"
   ]
  },
  {
   "cell_type": "markdown",
   "metadata": {
    "slideshow": {
     "slide_type": "subslide"
    }
   },
   "source": [
    "*Verbose exponence*: Two (or more) co-occurring formatives which both provide *some information about* a feature, bundle of features or derivational category in more than one position in a domain"
   ]
  },
  {
   "cell_type": "markdown",
   "metadata": {
    "slideshow": {
     "slide_type": "fragment"
    }
   },
   "source": [
    "- What is a formative? \n",
    "- What is a feature? \n",
    "- What does it mean to provide information?\n",
    "- What is the relevant domain?"
   ]
  },
  {
   "cell_type": "markdown",
   "metadata": {
    "slideshow": {
     "slide_type": "subslide"
    }
   },
   "source": [
    "Carroll, MJ. 2021. Verbose exponence: integrating the typologies of multiple and distributed exponence. *Morphology*\n"
   ]
  },
  {
   "cell_type": "markdown",
   "metadata": {
    "slideshow": {
     "slide_type": "subslide"
    }
   },
   "source": [
    "A *word* ($\\omega$) is defined as follows:\n",
    "\n",
    "\\begin{align*}\n",
    "\\omega &: <W, \\Sigma, l>  \\\\\n",
    "\\mathrm{wordform}(\\omega) &= W \\\\\n",
    "\\mathrm{cell}(\\omega) &= \\Sigma \\\\\n",
    "\\mathrm{lexeme}(\\omega) &= l  \n",
    "\\end{align*}"
   ]
  },
  {
   "cell_type": "markdown",
   "metadata": {
    "slideshow": {
     "slide_type": "subslide"
    }
   },
   "source": [
    "\\begin{equation*}\n",
    "<\\textit{nəmdədanɛ},\\{1, \\mathrm{DU, PRS}\\},\\mathrm{YMDD}> \n",
    "\\end{equation*}\n",
    "\n",
    "\n",
    "\\begin{align*}\n",
    "\\mathrm{wordform}(\\omega) &= \\textit{nəmdədanɛ} \\\\ \n",
    "\\mathrm{cell}(\\omega) &= \\{1,\\mathrm{DU, PRS}\\} \\\\\n",
    "\\mathrm{lexeme}(\\omega) &= \\mathrm{YMDD}  \n",
    "\\end{align*}\n"
   ]
  },
  {
   "cell_type": "markdown",
   "metadata": {
    "slideshow": {
     "slide_type": "fragment"
    }
   },
   "source": [
    "```\n",
    "Language_ID,Cell,Form,Lex\n",
    "Yei,1-SG-PRS,wɐmdədə,YMDD\n",
    "Yei,1-DU-PRS,nəmdədanɛ,YMDD\n",
    "Yei,1-PL-PRS,nəmdədə,YMDD\n",
    "\n",
    "```"
   ]
  },
  {
   "cell_type": "markdown",
   "metadata": {
    "slideshow": {
     "slide_type": "subslide"
    }
   },
   "source": [
    "FEATURE:value\n",
    "\n",
    "$\\sigma: v$\n",
    "\n",
    "\n",
    "- Features represent the dimensions of the paradigm wrt syntactic-semantic properties\n",
    "- Values represent the maximum distinctions made for a given feature\n",
    "\n"
   ]
  },
  {
   "cell_type": "markdown",
   "metadata": {
    "slideshow": {
     "slide_type": "fragment"
    }
   },
   "source": [
    "$V(\\sigma) =  \\{ v_1, v_2, ..., v_n \\} $\n",
    "\n",
    "\n",
    "\n",
    "$V(\\textrm{NUMBER}) = \\{ \\textrm{SG, DU, PL} \\}$"
   ]
  },
  {
   "cell_type": "markdown",
   "metadata": {
    "slideshow": {
     "slide_type": "subslide"
    }
   },
   "source": [
    "A PARADIGM ($\\lambda$) is defined as:\n",
    "\\begin{equation*}\n",
    "\\lambda = \\mathrm{para}(l) = \\{ \\omega : \\mathrm{lex}(\\omega) = l \\}\n",
    "\\end{equation*}\n"
   ]
  },
  {
   "cell_type": "markdown",
   "metadata": {
    "slideshow": {
     "slide_type": "fragment"
    }
   },
   "source": [
    "*A paradigm is all the words which share a lexical index.*"
   ]
  },
  {
   "cell_type": "markdown",
   "metadata": {
    "slideshow": {
     "slide_type": "subslide"
    }
   },
   "source": [
    "A PARADIGM ($\\lambda$) is defined as:\n",
    "\\begin{equation*}\n",
    "\\lambda = \\mathrm{para}(l) = \\{ \\omega : \\mathrm{lex}(\\omega) = l \\}\n",
    "\\end{equation*}\n"
   ]
  },
  {
   "cell_type": "markdown",
   "metadata": {
    "slideshow": {
     "slide_type": "fragment"
    }
   },
   "source": [
    "\\begin{align*}\n",
    "<\\textit{wɐmdədə},&\\{1,\\textrm{SG, PRS}\\},\\mathrm{YMDD}> \\\\\n",
    "<\\textit{nəmdədanɛ},&\\{1,\\textrm{DU, PRS}\\},\\mathrm{YMDD}> \\\\\n",
    "<\\textit{nəmdədə},&\\{1,\\textrm{PL, PRS}\\},\\mathrm{YMDD}> \\\\\n",
    "&... \\\\\n",
    "\\end{align*}"
   ]
  },
  {
   "cell_type": "markdown",
   "metadata": {
    "slideshow": {
     "slide_type": "subslide"
    }
   },
   "source": [
    "The DISTRIBUTION of a formative, $a$, in a paradigm, $\\lambda$, is defined as:\n",
    "\\begin{equation*}\n",
    "\\mathrm{dist}(a) = \\{ \\mathrm{cell}(\\omega) : \\omega \\in \\lambda , a \\in \\mathrm{wordform}(\\omega)  \\}\n",
    "\\end{equation*}"
   ]
  },
  {
   "cell_type": "markdown",
   "metadata": {
    "slideshow": {
     "slide_type": "fragment"
    }
   },
   "source": [
    "*The distribution of a formative is all the cells where that formative occurs.*"
   ]
  },
  {
   "cell_type": "markdown",
   "metadata": {
    "slideshow": {
     "slide_type": "subslide"
    }
   },
   "source": [
    "The DISTRIBUTION of a formative, $a$, in a paradigm, $\\lambda$, is defined as:\n",
    "\\begin{equation*}\n",
    "\\mathrm{dist}(a) = \\{ \\mathrm{cell}(\\omega) : \\omega \\in \\lambda , a \\in \\mathrm{wordform}(\\omega)  \\}\n",
    "\\end{equation*}\n",
    "\n",
    "|Number|Form|\n",
    "|-----------|-----------|\n",
    "|SG| *wɐ-mdəd-ə* |\n",
    "|DU| *nə-mdəd-anɛ*||\n",
    "|PL|*nə-mdəd-ə*|"
   ]
  },
  {
   "cell_type": "markdown",
   "metadata": {
    "slideshow": {
     "slide_type": "fragment"
    }
   },
   "source": [
    "$\\mathrm{dist}(\\textit{nə}) =\\{  \\{1,\\textrm{DU,PRS}\\} , \\{1,\\textrm{PL,PRS}\\}, ... \\}$\n"
   ]
  },
  {
   "cell_type": "markdown",
   "metadata": {
    "slideshow": {
     "slide_type": "subslide"
    }
   },
   "source": [
    "### \\*A note on segmentation\n",
    "\n",
    "\n",
    "The alignment problem: Identifying which formatives are equivalent across words is a non-trivial problem (Beniamine & Naranjo, 2021).\n",
    "\n",
    "![](Images/sacha.jpg)\n"
   ]
  },
  {
   "cell_type": "markdown",
   "metadata": {
    "slideshow": {
     "slide_type": "subslide"
    }
   },
   "source": [
    "Data set\n",
    "\n",
    "```\n",
    "Doculect,l_0,c_tnsmood,c_aspect,c_Aper,c_Anum,c_Uper,c_Unum,C_plur,wordform,f_p1,f_p2,f_p3,f_stem,f_s1,f_s2,f_s3\n",
    "Ngkolmpu,TOUCH,futirr,dur,1,sg,2,sg,npl,ntpinont,,nt,,pino,nt,,\n",
    "Ngkolmpu,TOUCH,futirr,dur,1,sg,2,sg,pl,ntpinont,,nt,,pino,nt,,\n",
    "Ngkolmpu,TOUCH,futirr,dur,1,sg,2,nsg,npl,srpinont,,s,r,pino,nt,,\n",
    "Ngkolmpu,TOUCH,futirr,dur,1,sg,2,nsg,pl,srpinont,,s,r,pino,nt,,\n",
    "Ngkolmpu,TOUCH,futirr,dur,1,sg,3,nsg,npl,srpinont,,s,r,pino,nt,,\n",
    "Ngkolmpu,TOUCH,futirr,dur,1,sg,3,nsg,pl,srpinont,,s,r,pino,nt,,\n",
    "Ngkolmpu,TOUCH,futirr,dur,1,nsg,2,sg,npl,ntpinontey,,nt,,pino,nt,,ey\n",
    "Ngkolmpu,TOUCH,futirr,dur,1,nsg,2,sg,pl,ntpinontey,,nt,,pino,nt,,ey\n",
    "Ngkolmpu,TOUCH,futirr,dur,1,nsg,2,nsg,npl,srpinontey,,s,r,pino,nt,,ey\n",
    "Ngkolmpu,TOUCH,futirr,dur,1,nsg,2,nsg,pl,srpinontey,,s,r,pino,nt,,ey\n",
    "...\n",
    "```\n"
   ]
  },
  {
   "cell_type": "markdown",
   "metadata": {
    "slideshow": {
     "slide_type": "subslide"
    }
   },
   "source": [
    "The DISTRIBUTION of a formative with respect to a feature ($\\sigma$) is defined as:\n",
    "\n",
    "\\begin{equation*}\n",
    "\\mathrm{dist}_\\sigma(a) = \\{ v : v \\in V(\\sigma) , v \\in \\mathrm{dist}(a) \\}\n",
    "\\end{equation*}"
   ]
  },
  {
   "cell_type": "markdown",
   "metadata": {
    "slideshow": {
     "slide_type": "fragment"
    }
   },
   "source": [
    "*The distribution of a formative with respect to a feature is the set of all the values of that feature from all the cells in its distribution.*"
   ]
  },
  {
   "cell_type": "markdown",
   "metadata": {
    "slideshow": {
     "slide_type": "subslide"
    }
   },
   "source": [
    "The DISTRIBUTION of a formative with respect to a feature ($\\sigma$) is defined as:\n",
    "\n",
    "\\begin{equation*}\n",
    "\\mathrm{dist}_\\sigma(a) = \\{ v : v \\in V(\\sigma) , v \\in \\mathrm{dist}(a) \\}\n",
    "\\end{equation*}\n",
    "\n",
    "\n",
    "\n",
    "\\begin{align*}\n",
    "\\mathrm{dist}(\\textit{nə}) &=\\{  \\{1,\\textrm{DU,PRS}\\} , \\{1,\\textrm{PL,PRS}\\}, ... \\} \\\\\n",
    "\\mathrm{dist}_{\\textrm{NUM}}(\\textit{nə}) &= \\{ \\textrm{DU}, \\textrm{PL} \\} \\\\\n",
    "\\end{align*}\n"
   ]
  },
  {
   "cell_type": "markdown",
   "metadata": {
    "slideshow": {
     "slide_type": "subslide"
    }
   },
   "source": [
    "### Informativeness\n",
    "\n",
    "*What does it mean to provide information about a feature?*\n",
    "\n",
    "|Number|Form|\n",
    "|-----------|-----------|\n",
    "|SG| *wɐ-mdəd-ə* |\n",
    "|DU| *nə-mdəd-anɛ*||\n",
    "|PL|*nə-mdəd-ə*|\n",
    "\n",
    "\n"
   ]
  },
  {
   "cell_type": "markdown",
   "metadata": {
    "slideshow": {
     "slide_type": "fragment"
    }
   },
   "source": [
    "*A formative provides information about a feature if it occurs with a subset of the total values of a feature*\n"
   ]
  },
  {
   "cell_type": "markdown",
   "metadata": {
    "slideshow": {
     "slide_type": "subslide"
    }
   },
   "source": [
    "The INFORMATIVENESS, $I$, of a formative with respect to a feature ($\\sigma$) is defined as: \n",
    "\n",
    "\\begin{align*}\n",
    "\t I_\\sigma(a) = \\{ v : v \\in \\mathrm{dist}_\\sigma(a) , \\mathrm{dist}_\\sigma(a) \\subset V(\\sigma) \\}\n",
    "\\end{align*}"
   ]
  },
  {
   "cell_type": "markdown",
   "metadata": {
    "slideshow": {
     "slide_type": "fragment"
    }
   },
   "source": [
    "*A formative provides information about a feature if it occurs with a subset of the total values of a feature*"
   ]
  },
  {
   "cell_type": "markdown",
   "metadata": {
    "slideshow": {
     "slide_type": "subslide"
    }
   },
   "source": [
    "### Informativeness\n",
    "\n",
    "*What does it mean to provide information about a feature?*\n",
    "\n",
    "|Number|Form|\n",
    "|-----------|-----------|\n",
    "|SG| *wɐ-mdəd-ə* |\n",
    "|DU| *nə-mdəd-anɛ*||\n",
    "|PL|*nə-mdəd-ə*|\n",
    "\n",
    "\n"
   ]
  },
  {
   "cell_type": "markdown",
   "metadata": {
    "slideshow": {
     "slide_type": "fragment"
    }
   },
   "source": [
    "\\begin{align*}\n",
    "I_{\\textrm{NUM}}(\\textit{nə}) &= \\{ \\textrm{DU, PL} \\} \\\\\n",
    "I_{\\textrm{NUM}}(\\textit{mdəd}) &=\\emptyset \\\\\n",
    "\\end{align*}"
   ]
  },
  {
   "cell_type": "markdown",
   "metadata": {
    "slideshow": {
     "slide_type": "fragment"
    }
   },
   "source": [
    "\n",
    "\\begin{align*}\n",
    "I_{\\textrm{NUM}}(\\textit{wɐ}) &= \\{ \\textrm{SG} \\} \\\\\n",
    "I_{\\textrm{NUM}}(\\textit{ə}) &= \\{ \\textrm{SG, PL} \\} \\\\\n",
    "I_{\\textrm{NUM}}(\\textit{anɛ}) &= \\{ \\textrm{DU} \\} \\\\\n",
    "\\end{align*}"
   ]
  },
  {
   "cell_type": "markdown",
   "metadata": {
    "slideshow": {
     "slide_type": "subslide"
    }
   },
   "source": [
    "We have a formal model of words in which distributions are defined as SETS of feature values.\n",
    "\n",
    "\n",
    "We can use these to define the distributions of given formatives across the words in which they occur in a given lexeme.\n",
    "\n",
    "\n",
    "Informativeness can be formalised as any distribution which involves a subset of the total possible feature values.\n"
   ]
  },
  {
   "cell_type": "markdown",
   "metadata": {
    "slideshow": {
     "slide_type": "subslide"
    }
   },
   "source": [
    "Informatives:"
   ]
  },
  {
   "cell_type": "code",
   "execution_count": 16,
   "metadata": {
    "slideshow": {
     "slide_type": "fragment"
    }
   },
   "outputs": [],
   "source": [
    "import pyTomex as ptm\n",
    "\n",
    "ngkolmpu_df = pd.read_csv(\"data/ngkolmpu_data_example.csv\")\n"
   ]
  },
  {
   "cell_type": "code",
   "execution_count": 18,
   "metadata": {},
   "outputs": [
    {
     "data": {
      "text/plain": [
       "{'nsgU'}"
      ]
     },
     "execution_count": 18,
     "metadata": {},
     "output_type": "execute_result"
    }
   ],
   "source": [
    "ptm.i_sig('c_Unum', 'f_p2', 's', 'TOUCH', ngkolmpu_df)"
   ]
  },
  {
   "cell_type": "markdown",
   "metadata": {
    "slideshow": {
     "slide_type": "slide"
    }
   },
   "source": [
    "## Defining the typology"
   ]
  },
  {
   "cell_type": "markdown",
   "metadata": {
    "slideshow": {
     "slide_type": "subslide"
    }
   },
   "source": [
    "### Verbose exponence, i.e. the base"
   ]
  },
  {
   "cell_type": "markdown",
   "metadata": {
    "slideshow": {
     "slide_type": "fragment"
    }
   },
   "source": [
    "*Verbose exponence*: Two (or more) co-occurring formatives which both provide *some information about* a feature, bundle of features or derivational category in more than one position in a domain"
   ]
  },
  {
   "cell_type": "markdown",
   "metadata": {
    "slideshow": {
     "slide_type": "fragment"
    }
   },
   "source": [
    "A word, $\\omega$, is an example of VERBOSE EXPONENCE iff: \n",
    "\n",
    "\\begin{align*}\n",
    "\\exists a, b \\in W, \\exists \\sigma \\in F : I_\\sigma(a) \\cap I_\\sigma(b) \\neq \\emptyset\n",
    "\\end{align*}\t"
   ]
  },
  {
   "cell_type": "markdown",
   "metadata": {
    "slideshow": {
     "slide_type": "subslide"
    }
   },
   "source": [
    "<table style=\"float:right\">\n",
    "<tr>    \n",
    "    <th> </th> <th>SG</th> <th>PL</th> \n",
    "</tr>\n",
    "<tr>\n",
    "    <td>i </td><td>  v </td><td> b </td> \n",
    "</tr>\n",
    "<tr>\n",
    "    <td>ii </td><td> <b>y</b> </td><td> d  </td>\n",
    "</tr>\n",
    "<tr>\n",
    "    <td> iii </td><td> <b>y</b> </td><td> <b>y</b>  </td>\n",
    "</tr>\n",
    "<tr>\n",
    "    <td> iv </td><td> b </td><td> b </td>\n",
    "</tr>\n",
    "<tr>\n",
    "    <td> v </td><td> d </td><td> d  </td>\n",
    "</tr>\n",
    "<tr>\n",
    "    <td> vi </td><td> b </td><td> d  </td>\n",
    "</tr>\n",
    "<tr>\n",
    "    <td> vii </td><td> b </td><td> <b>y</b>  </td>\n",
    "</tr>\n",
    "<tr>\n",
    "    <td> viii </td><td> d </td><td> <b>y</b>  </td>\n",
    "</tr>\n",
    "</table>\n",
    "\n",
    "\\begin{align*}\n",
    "\\mathrm{dist}_{GEND}(y) &= \\{ ii, iii, vii, viii \\}  \\\\\n",
    "\\mathrm{dist}_{NUM}(y) &= \\{ SG, PL \\}  \\\\\n",
    "I_{GEND}(y)& = \\{ ii, iii, vii, viii \\} \\\\ \n",
    "I_{NUM}(y) &=  \\emptyset \\\\\n",
    "I_{GEND}(y_1) \\cap I_{GEND}(y_2) & =  \\{ ii, iii, vii, viii \\} \\\\ \n",
    "I_{NUM}(y_1) \\cap I_{NUM}(y_1) & =  \\emptyset \\\\\n",
    "\\end{align*}"
   ]
  },
  {
   "cell_type": "markdown",
   "metadata": {
    "slideshow": {
     "slide_type": "fragment"
    }
   },
   "source": [
    "A word, $\\omega$, is an example of VERBOSE EXPONENCE iff: \n",
    "\n",
    "\\begin{align*}\n",
    "\\exists a, b \\in W, \\exists \\sigma \\in F : I_\\sigma(a) \\cap I_\\sigma(b) \\neq \\emptyset\n",
    "\\end{align*}\t"
   ]
  },
  {
   "cell_type": "markdown",
   "metadata": {
    "slideshow": {
     "slide_type": "subslide"
    }
   },
   "source": [
    "A word, $\\omega$, is an example of VERBOSE EXPONENCE iff: \n",
    "\n",
    "\\begin{align*}\n",
    "\\exists a, b \\in W, \\exists \\sigma \\in F : I_\\sigma(a) \\cap I_\\sigma(b) \\neq \\emptyset\n",
    "\\end{align*}\t"
   ]
  },
  {
   "cell_type": "markdown",
   "metadata": {
    "slideshow": {
     "slide_type": "subslide"
    }
   },
   "source": [
    "### Multiple exponence\n",
    "\n",
    "Verbose exponence within some word, $\\omega$, may involve INFORMATION IDENTITY with respect to some feature, $\\sigma$, also known as multiple exponence:\n",
    "\n",
    "\\begin{align*}\n",
    "\\exists a, b \\in W , \\exists \\sigma \\in F : I_\\sigma(a) = I_\\sigma(b) \\neq \\emptyset\n",
    "\\end{align*}"
   ]
  },
  {
   "cell_type": "markdown",
   "metadata": {
    "slideshow": {
     "slide_type": "subslide"
    }
   },
   "source": [
    "<table style=\"float:right\">\n",
    "<tr>    \n",
    "    <th> </th> <th>SG</th> <th>PL</th> \n",
    "</tr>\n",
    "<tr>\n",
    "    <td>i </td><td>  v </td><td> b </td> \n",
    "</tr>\n",
    "<tr>\n",
    "    <td>ii </td><td> <b>y</b> </td><td> d  </td>\n",
    "</tr>\n",
    "<tr>\n",
    "    <td> iii </td><td> <b>y</b> </td><td> <b>y</b>  </td>\n",
    "</tr>\n",
    "<tr>\n",
    "    <td> iv </td><td> b </td><td> b </td>\n",
    "</tr>\n",
    "<tr>\n",
    "    <td> v </td><td> d </td><td> d  </td>\n",
    "</tr>\n",
    "<tr>\n",
    "    <td> vi </td><td> b </td><td> d  </td>\n",
    "</tr>\n",
    "<tr>\n",
    "    <td> vii </td><td> b </td><td> <b>y</b>  </td>\n",
    "</tr>\n",
    "<tr>\n",
    "    <td> viii </td><td> d </td><td> <b>y</b>  </td>\n",
    "</tr>\n",
    "</table>\n",
    "\n",
    "\\begin{align*}\n",
    "\\mathrm{dist}_{GEND}(y) &= \\{ ii, iii, vii, viii \\}  \\\\\n",
    "\\mathrm{dist}_{NUM}(y) &= \\{ SG, PL \\}  \\\\\n",
    "I_{GEND}(y)& = \\{ ii, iii, vii, viii \\} \\\\ \n",
    "I_{NUM}(y) &=  \\emptyset \\\\\n",
    "I_{GEND}(y_1) = I_{GEND}(y_2) & =  \\{ ii, iii, vii, viii \\} \\\\ \n",
    "I_{NUM}(y_1) = I_{NUM}(y_1) & =  \\emptyset \\\\\n",
    "\\end{align*}"
   ]
  },
  {
   "cell_type": "markdown",
   "metadata": {
    "slideshow": {
     "slide_type": "fragment"
    }
   },
   "source": [
    "Verbose exponence within some word, $\\omega$, may involve INFORMATION IDENTITY with respect to some feature, $\\sigma$, also known as multiple exponence:\n",
    "\n",
    "\\begin{align*}\n",
    "\\exists a, b \\in W , \\exists \\sigma \\in F : I_\\sigma(a) = I_\\sigma(b) \\neq \\emptyset\n",
    "\\end{align*}"
   ]
  },
  {
   "cell_type": "markdown",
   "metadata": {
    "slideshow": {
     "slide_type": "subslide"
    }
   },
   "source": [
    "### Subset exponence\n",
    "\n",
    "Verbose exponence of a word, $\\omega$, may involve INFORMATION SUBSET with respect to some feature, $\\sigma$:\n",
    "\n",
    "\\begin{align*}\n",
    "\\exists a, b \\in W , \\exists \\sigma \\in F : I_\\sigma(a) \\subset I_\\sigma(b), I_\\sigma(a) \\neq \\emptyset  \n",
    "\\end{align*}\t"
   ]
  },
  {
   "cell_type": "markdown",
   "metadata": {
    "slideshow": {
     "slide_type": "subslide"
    }
   },
   "source": [
    "|Number|Form|\n",
    "|-----------|-----------|\n",
    "|SG| *wɐ-mdəd-ə* |\n",
    "|DU| *nə-mdəd-anɛ*||\n",
    "|PL|*nə-mdəd-ə*|\n",
    "\n",
    "\n",
    "\\begin{align*}\n",
    "I_{NUM}(\\textit{nə}) &=  \\{ DU, PL\\} \\\\\n",
    "I_{NUM}(\\textit{anɛ}) &=  \\{ DU \\} \\\\\n",
    "I_{NUM}(\\textit{anɛ}) &\\subset I_{NUM}(\\textit{nə})  \\\\\n",
    "\\end{align*}"
   ]
  },
  {
   "cell_type": "markdown",
   "metadata": {
    "slideshow": {
     "slide_type": "fragment"
    }
   },
   "source": [
    "Verbose exponence of a word, $\\omega$, may involve INFORMATION SUBSET with respect to some feature, $\\sigma$:\n",
    "\n",
    "\\begin{align*}\n",
    "\\exists a, b \\in W , \\exists \\sigma \\in F : I_\\sigma(a) \\subset I_\\sigma(b), I_\\sigma(a) \\neq \\emptyset  \n",
    "\\end{align*}\t"
   ]
  },
  {
   "cell_type": "markdown",
   "metadata": {
    "slideshow": {
     "slide_type": "subslide"
    }
   },
   "source": [
    "### Distributed exponence\n",
    "\n",
    "Verbose exponence in some word, $\\omega$, may involve other types of INFORMATION INTERSECTION (distributed exponence} with respect to some feature, $\\sigma$:\n",
    "\n",
    "\\begin{align*}\n",
    "\\exists a, b \\in W , \\exists \\sigma \\in F : I_\\sigma(a) \\cap I_\\sigma(b) \\neq \\emptyset ,  I_\\sigma(a) \\not\\subseteq I_\\sigma(b) ,  I_\\sigma(b) \\not\\subseteq I_\\sigma(a)\n",
    "\\end{align*}\t"
   ]
  },
  {
   "cell_type": "markdown",
   "metadata": {
    "slideshow": {
     "slide_type": "subslide"
    }
   },
   "source": [
    "|Number|Form|\n",
    "|-----------|-----------|\n",
    "|SG| *wɐ-mdəd-ə* |\n",
    "|DU| *nə-mdəd-anɛ*||\n",
    "|PL|*nə-mdəd-ə*|\n",
    "\n",
    "\n",
    "\\begin{align*}\n",
    "I_{NUM}(\\textit{nə}) &=  \\{ DU, PL\\} \\\\\n",
    "I_{NUM}(\\textit{ə}) &=  \\{ SG, PL \\} \\\\\n",
    "I_{NUM}(\\textit{nə}) &\\cap I_{NUM}(\\textit{ə}) = \\{ PL \\} \\\\\n",
    "I_{NUM}(\\textit{nə}) &\\not\\subseteq I_{NUM}(\\textit{ə}) \\\\\n",
    "I_{NUM}(\\textit{ə}) &\\not\\subseteq I_{NUM}(\\textit{nə}) \\\\\n",
    "\\end{align*}"
   ]
  },
  {
   "cell_type": "markdown",
   "metadata": {
    "slideshow": {
     "slide_type": "fragment"
    }
   },
   "source": [
    "Verbose exponence in some word, $\\omega$, may involve other types of \\INFORMATION INTERSECTION (distributed exponence} with respect to some feature, $\\sigma$:\n",
    "\n",
    "\\begin{align*}\n",
    "\\exists a, b \\in W , \\exists \\sigma \\in F : I_\\sigma(a) \\cap I_\\sigma(b) \\neq \\emptyset ,  I_\\sigma(a) \\not\\subseteq I_\\sigma(b) ,  I_\\sigma(b) \\not\\subseteq I_\\sigma(a)\n",
    "\\end{align*}\t"
   ]
  },
  {
   "cell_type": "markdown",
   "metadata": {
    "slideshow": {
     "slide_type": "subslide"
    }
   },
   "source": [
    "![](Images/types.jpg)"
   ]
  },
  {
   "cell_type": "markdown",
   "metadata": {
    "slideshow": {
     "slide_type": "slide"
    }
   },
   "source": [
    "## Classification"
   ]
  },
  {
   "cell_type": "code",
   "execution_count": 20,
   "metadata": {},
   "outputs": [],
   "source": [
    "ngkolmpu = ptm.classify_VE('TOUCH',ngkolmpu_df)\n",
    "\n",
    "ve_df = pd.DataFrame(ngkolmpu)"
   ]
  },
  {
   "cell_type": "code",
   "execution_count": 21,
   "metadata": {},
   "outputs": [
    {
     "data": {
      "text/html": [
       "<div>\n",
       "<style scoped>\n",
       "    .dataframe tbody tr th:only-of-type {\n",
       "        vertical-align: middle;\n",
       "    }\n",
       "\n",
       "    .dataframe tbody tr th {\n",
       "        vertical-align: top;\n",
       "    }\n",
       "\n",
       "    .dataframe thead th {\n",
       "        text-align: right;\n",
       "    }\n",
       "</style>\n",
       "<table border=\"1\" class=\"dataframe\">\n",
       "  <thead>\n",
       "    <tr style=\"text-align: right;\">\n",
       "      <th></th>\n",
       "      <th>Wordform</th>\n",
       "      <th>Cell</th>\n",
       "      <th>Value</th>\n",
       "      <th>FormA</th>\n",
       "      <th>FormB</th>\n",
       "      <th>Type</th>\n",
       "    </tr>\n",
       "  </thead>\n",
       "  <tbody>\n",
       "    <tr>\n",
       "      <th>0</th>\n",
       "      <td>ntpinont</td>\n",
       "      <td>{futirr, npl, sgU, sgA, 1A, 2U, dur}</td>\n",
       "      <td>futirr</td>\n",
       "      <td>(f_p2, nt)</td>\n",
       "      <td>(f_s1, nt)</td>\n",
       "      <td>SE</td>\n",
       "    </tr>\n",
       "    <tr>\n",
       "      <th>1</th>\n",
       "      <td>ntpinont</td>\n",
       "      <td>{futirr, npl, sgU, sgA, 1A, 2U, dur}</td>\n",
       "      <td>dur</td>\n",
       "      <td>(f_p2, nt)</td>\n",
       "      <td>(f_s1, nt)</td>\n",
       "      <td>ME</td>\n",
       "    </tr>\n",
       "    <tr>\n",
       "      <th>2</th>\n",
       "      <td>ntpinont</td>\n",
       "      <td>{futirr, sgU, sgA, 1A, 2U, dur, pl}</td>\n",
       "      <td>futirr</td>\n",
       "      <td>(f_p2, nt)</td>\n",
       "      <td>(f_s1, nt)</td>\n",
       "      <td>SE</td>\n",
       "    </tr>\n",
       "    <tr>\n",
       "      <th>3</th>\n",
       "      <td>ntpinont</td>\n",
       "      <td>{futirr, sgU, sgA, 1A, 2U, dur, pl}</td>\n",
       "      <td>dur</td>\n",
       "      <td>(f_p2, nt)</td>\n",
       "      <td>(f_s1, nt)</td>\n",
       "      <td>ME</td>\n",
       "    </tr>\n",
       "    <tr>\n",
       "      <th>4</th>\n",
       "      <td>srpinont</td>\n",
       "      <td>{nsgU, futirr, npl, sgA, 1A, 2U, dur}</td>\n",
       "      <td>futirr</td>\n",
       "      <td>(f_p2, s)</td>\n",
       "      <td>(f_p3, r)</td>\n",
       "      <td>SE</td>\n",
       "    </tr>\n",
       "  </tbody>\n",
       "</table>\n",
       "</div>"
      ],
      "text/plain": [
       "   Wordform                                   Cell   Value       FormA  \\\n",
       "0  ntpinont   {futirr, npl, sgU, sgA, 1A, 2U, dur}  futirr  (f_p2, nt)   \n",
       "1  ntpinont   {futirr, npl, sgU, sgA, 1A, 2U, dur}     dur  (f_p2, nt)   \n",
       "2  ntpinont    {futirr, sgU, sgA, 1A, 2U, dur, pl}  futirr  (f_p2, nt)   \n",
       "3  ntpinont    {futirr, sgU, sgA, 1A, 2U, dur, pl}     dur  (f_p2, nt)   \n",
       "4  srpinont  {nsgU, futirr, npl, sgA, 1A, 2U, dur}  futirr   (f_p2, s)   \n",
       "\n",
       "        FormB Type  \n",
       "0  (f_s1, nt)   SE  \n",
       "1  (f_s1, nt)   ME  \n",
       "2  (f_s1, nt)   SE  \n",
       "3  (f_s1, nt)   ME  \n",
       "4   (f_p3, r)   SE  "
      ]
     },
     "execution_count": 21,
     "metadata": {},
     "output_type": "execute_result"
    }
   ],
   "source": [
    "ve_df.head()"
   ]
  },
  {
   "cell_type": "markdown",
   "metadata": {
    "slideshow": {
     "slide_type": "slide"
    }
   },
   "source": [
    "## Take homes! "
   ]
  },
  {
   "cell_type": "markdown",
   "metadata": {
    "slideshow": {
     "slide_type": "subslide"
    }
   },
   "source": [
    "### 1. All aboard the train to lake Baikal\n",
    "\n",
    "<img src=\"Images/trains3.jpg\">\n"
   ]
  },
  {
   "cell_type": "markdown",
   "metadata": {
    "slideshow": {
     "slide_type": "subslide"
    }
   },
   "source": [
    "### 2. The typology workflow is iterative and circular\n",
    "\n",
    "<center>\n",
    "<img src=\"Images/typscience.jpg\" width=\"1000\"> \n"
   ]
  },
  {
   "cell_type": "markdown",
   "metadata": {
    "slideshow": {
     "slide_type": "subslide"
    }
   },
   "source": [
    "### 3. We can use automation to speed up data gathering\n",
    "\n",
    "<img src=\"Images/pacific_central.jpg\" width=15000>"
   ]
  },
  {
   "cell_type": "markdown",
   "metadata": {
    "slideshow": {
     "slide_type": "subslide"
    }
   },
   "source": [
    "### 4. Datasets not databases\n",
    "\n",
    "\n",
    "```\n",
    "Doculect,l_0,c_tnsmood,c_aspect,c_Aper,c_Anum,c_Uper,c_Unum,C_plur,wordform,f_p1,f_p2,f_p3,f_stem,f_s1,f_s2,f_s3\n",
    "Ngkolmpu,TOUCH,futirr,dur,1,sg,2,sg,npl,ntpinont,,nt,,pino,nt,,\n",
    "Ngkolmpu,TOUCH,futirr,dur,1,sg,2,sg,pl,ntpinont,,nt,,pino,nt,,\n",
    "Ngkolmpu,TOUCH,futirr,dur,1,sg,2,nsg,npl,srpinont,,s,r,pino,nt,,\n",
    "Ngkolmpu,TOUCH,futirr,dur,1,sg,2,nsg,pl,srpinont,,s,r,pino,nt,,\n",
    "Ngkolmpu,TOUCH,futirr,dur,1,sg,3,nsg,npl,srpinont,,s,r,pino,nt,,\n",
    "Ngkolmpu,TOUCH,futirr,dur,1,sg,3,nsg,pl,srpinont,,s,r,pino,nt,,\n",
    "Ngkolmpu,TOUCH,futirr,dur,1,nsg,2,sg,npl,ntpinontey,,nt,,pino,nt,,ey\n",
    "Ngkolmpu,TOUCH,futirr,dur,1,nsg,2,sg,pl,ntpinontey,,nt,,pino,nt,,ey\n",
    "Ngkolmpu,TOUCH,futirr,dur,1,nsg,2,nsg,npl,srpinontey,,s,r,pino,nt,,ey\n",
    "Ngkolmpu,TOUCH,futirr,dur,1,nsg,2,nsg,pl,srpinontey,,s,r,pino,nt,,ey\n",
    "...\n",
    "```"
   ]
  },
  {
   "cell_type": "markdown",
   "metadata": {
    "slideshow": {
     "slide_type": "subslide"
    }
   },
   "source": [
    "### 5. Model our assumptions and typologies\n",
    "\n",
    "\\begin{align*}\n",
    "\\omega &: <W, \\Sigma, l>  \\\\\n",
    "\\mathrm{wordform}(\\omega) &= W \\\\\n",
    "\\mathrm{cell}(\\omega) &= \\Sigma \\\\\n",
    "\\mathrm{lexeme}(\\omega) &= l  \n",
    "\\end{align*}"
   ]
  }
 ],
 "metadata": {
  "celltoolbar": "Slideshow",
  "kernelspec": {
   "display_name": "Python 3",
   "language": "python",
   "name": "python3"
  },
  "language_info": {
   "codemirror_mode": {
    "name": "ipython",
    "version": 3
   },
   "file_extension": ".py",
   "mimetype": "text/x-python",
   "name": "python",
   "nbconvert_exporter": "python",
   "pygments_lexer": "ipython3",
   "version": "3.8.10"
  }
 },
 "nbformat": 4,
 "nbformat_minor": 4
}
