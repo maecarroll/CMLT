{
 "cells": [
  {
   "cell_type": "markdown",
   "metadata": {
    "slideshow": {
     "slide_type": "slide"
    }
   },
   "source": [
    " # Computational Methods for Linguistic Typology\n",
    "\n",
    "## Part 1 - Introduction\n",
    "\n",
    "Matthew J Carroll\n",
    "\n",
    "Australian Linguistic Society 2022 CoEDL Masterclasses"
   ]
  },
  {
   "cell_type": "markdown",
   "metadata": {
    "slideshow": {
     "slide_type": "subslide"
    }
   },
   "source": [
    "<center>\n",
    "    <img src=\"Images/meme1.png\" width=\"1000\"/>\n",
    "</center>\n"
   ]
  },
  {
   "cell_type": "markdown",
   "metadata": {
    "slideshow": {
     "slide_type": "subslide"
    }
   },
   "source": [
    "<center>\n",
    "    <img src=\"Images/02-grimm-og.jpg\" width=\"1000\"/>\n",
    "</center>\n"
   ]
  },
  {
   "cell_type": "markdown",
   "metadata": {
    "slideshow": {
     "slide_type": "subslide"
    }
   },
   "source": [
    "<center>\n",
    "    <img src=\"Images/02-grimm-hackers.png\" width=\"1000\"/>\n",
    "</center>\n",
    "\n"
   ]
  },
  {
   "cell_type": "markdown",
   "metadata": {
    "slideshow": {
     "slide_type": "slide"
    }
   },
   "source": [
    "### What is linguistic typology?"
   ]
  },
  {
   "cell_type": "markdown",
   "metadata": {
    "slideshow": {
     "slide_type": "fragment"
    }
   },
   "source": []
  },
  {
   "cell_type": "markdown",
   "metadata": {
    "slideshow": {
     "slide_type": "subslide"
    }
   },
   "source": [
    "**Linguistic typology:** The study of patterns of interlanguage variation indepedent from shared history (phylogetic and/or contact) and its associated methods"
   ]
  },
  {
   "cell_type": "markdown",
   "metadata": {
    "slideshow": {
     "slide_type": "subslide"
    }
   },
   "source": [
    "### WALS\n",
    "\n",
    "![](Images/WALS.gif)\n",
    "\n",
    "World Atlas of Linguistic Structure (First published in 2005)\n",
    "\n",
    "https://wals.info/\n",
    "\n",
    "https://wals.info/chapter/21"
   ]
  },
  {
   "cell_type": "markdown",
   "metadata": {
    "slideshow": {
     "slide_type": "subslide"
    }
   },
   "source": [
    "<center>\n",
    "<img src=\"Images/lakegeorge.jpg\" width=\"1000\"> \n",
    "</center>"
   ]
  },
  {
   "cell_type": "markdown",
   "metadata": {
    "slideshow": {
     "slide_type": "subslide"
    }
   },
   "source": [
    "### Morphosyntactic complexity: a typology of lexical splits (Corbett 2015)\n",
    "\n",
    "*Language 91*(1) 145-193\n",
    "\n",
    "<img style=\"float: left;\" src=\"Images/splits2.png\" > \n",
    "\n",
    "<table>\n",
    "<tr><th> Split in Georgian verb ‘give’ </th><th>Split in Lunda verb ‘work’</th></tr>\n",
    "<tr><td>\n",
    "    \n",
    "|      |PRS |\tFUT |\n",
    "|----------|--------|--------|\n",
    "|1SG\t|va-jlev |miv-cem |\n",
    "|2SG\t|a-jlev\t|mis-cem|\n",
    "|3SG\t|a-jlev-s|mis-cem-s|\n",
    "|1PL\t|va-jlev-t |miv-cem-t|\n",
    "|2PL\t|a-jlev-t\t|mis-cem-t|\n",
    "|3PL\t|a-jlev-en\t|mis-cem-en|\n",
    "\n",
    "</td><td>\n",
    "    \n",
    "|      |PST|\tFUT|\n",
    "|-------|-------|--------|\n",
    "|1SG\t|na-zát-ili\t|ní-ku-záta|\n",
    "|2SG\t|wa-zát-ili\t|wú-ku-záta|\n",
    "|3SG\t|wa-zát-ili\t|wu-ku-záta|\n",
    "|1PL\t|twa-zát-ili\t|tú-ku-záta|\n",
    "|2PL\t|mwa-zát-ili\t|mú-ku-záta|\n",
    "|3PL\t|a-zát-ili\t|a-ku-záta|\n",
    " \n",
    "</td></tr> </table>"
   ]
  },
  {
   "cell_type": "markdown",
   "metadata": {
    "slideshow": {
     "slide_type": "subslide"
    }
   },
   "source": [
    "<img src=\"Images/lattice.png\" class=\"center\">"
   ]
  },
  {
   "cell_type": "markdown",
   "metadata": {
    "slideshow": {
     "slide_type": "subslide"
    }
   },
   "source": [
    "<img src=\"Images/lattice2.png\" class=\"center\">"
   ]
  },
  {
   "cell_type": "markdown",
   "metadata": {
    "slideshow": {
     "slide_type": "subslide"
    }
   },
   "source": [
    "<img src=\"Images/croatia.jpg\" width=\"1000\" class=\"center\">"
   ]
  },
  {
   "cell_type": "markdown",
   "metadata": {
    "slideshow": {
     "slide_type": "subslide"
    }
   },
   "source": [
    "### The state of the art\n",
    "\n",
    "  - Broad but shallow\n",
    "    - A necessary reduction linguistic complexity to predefined notions\n",
    "    - Classification of languages as single data points\n",
    "    - Can actually observe patterns of cross-linguistic \n",
    "  - Deep but narrow\n",
    "    - Multivariate analyses\n",
    "    - Just enough examples to show what is possible\n",
    "    - No sense of what is common, rare, georgaphically restricted"
   ]
  },
  {
   "cell_type": "markdown",
   "metadata": {
    "slideshow": {
     "slide_type": "slide"
    }
   },
   "source": [
    "### Goal"
   ]
  },
  {
   "cell_type": "markdown",
   "metadata": {
    "slideshow": {
     "slide_type": "fragment"
    }
   },
   "source": [
    "Through a combination of multivariate typology and data science methods we can make our typologies *broad and deep*"
   ]
  },
  {
   "cell_type": "markdown",
   "metadata": {
    "slideshow": {
     "slide_type": "subslide"
    }
   },
   "source": [
    "<center>\n",
    "<img src=\"Images/baikal.jpg\" width=\"1000\"> \n"
   ]
  },
  {
   "cell_type": "markdown",
   "metadata": {
    "slideshow": {
     "slide_type": "subslide"
    }
   },
   "source": [
    "**Our Goal** :  Examine the possibility that we can use computational methods, particularly those from data science, in order to make our typology Broad and Deep.\n",
    "\n",
    "Use data science workflows allow for:\n",
    "- accelerated data gathering\n",
    "- accelerated and precise data classification\n",
    "- reproducibility\n",
    "\n",
    "Make use of sophisticated modern typological approaches, i.e. canonical typology and multivariate typology"
   ]
  },
  {
   "cell_type": "markdown",
   "metadata": {
    "slideshow": {
     "slide_type": "subslide"
    }
   },
   "source": [
    "<img src=\"Images/trains3.jpg\">"
   ]
  },
  {
   "cell_type": "markdown",
   "metadata": {
    "slideshow": {
     "slide_type": "subslide"
    }
   },
   "source": [
    "\n",
    "\n",
    "\n",
    " RE DO AS AN OVERVIEW OF CTHE COURSE\n",
    " \n",
    "- Multivariate typology\n",
    "- The data science workflow and linguistic typology\n",
    "    - How to look for data?\n",
    "    - Dataset construction\n",
    "    - How to store, manage and share your data and code\n",
    "- How we might fomalise our assumptions in order to automate the classification of concrete data into types"
   ]
  },
  {
   "cell_type": "markdown",
   "metadata": {
    "slideshow": {
     "slide_type": "subslide"
    }
   },
   "source": [
    "**Tools**\n",
    "\n",
    "- Programming (Python)\n",
    "- Jupyter Notebooks\n",
    "- Markdown\n",
    "- Github / Cloudstor\n",
    "- Zenodo \n",
    "- Logic / set-theory"
   ]
  },
  {
   "cell_type": "markdown",
   "metadata": {
    "slideshow": {
     "slide_type": "slide"
    }
   },
   "source": [
    "## About me"
   ]
  },
  {
   "cell_type": "markdown",
   "metadata": {
    "slideshow": {
     "slide_type": "subslide"
    }
   },
   "source": [
    "### Documentation and description of Papuan languages:\n",
    "\n",
    "- Yam languages           \n",
    "- the southern New Guinea region more broadly\n",
    "- with a focus on Indonesian side of the border\n",
    "<img style=\"float: right;\" src=\"Images/fieldwork.jpeg\"> \n",
    "\n",
    "\n"
   ]
  },
  {
   "cell_type": "markdown",
   "metadata": {
    "slideshow": {
     "slide_type": "subslide"
    }
   },
   "source": [
    "### Typology of exponence\n",
    "\n",
    "The various ways morphological structure can be used to indicate non-lexical information in the world's languages\n",
    "\n",
    "What the distribution of common, uncommon and unattested means might allow us to infer about human language and cognition\n",
    "\n",
    "How we might explain the existance of unusually complex structures and what these explanations might tell us more broadly about the constraints of language evolution"
   ]
  },
  {
   "cell_type": "markdown",
   "metadata": {
    "slideshow": {
     "slide_type": "subslide"
    }
   },
   "source": [
    "I am not a software developer"
   ]
  },
  {
   "cell_type": "markdown",
   "metadata": {
    "slideshow": {
     "slide_type": "fragment"
    }
   },
   "source": [
    "I am not a computational linguist"
   ]
  },
  {
   "cell_type": "markdown",
   "metadata": {
    "slideshow": {
     "slide_type": "fragment"
    }
   },
   "source": [
    "I am a linguist who uses a computer"
   ]
  },
  {
   "cell_type": "markdown",
   "metadata": {
    "slideshow": {
     "slide_type": "subslide"
    }
   },
   "source": [
    "<img src=\"Images/trains3.jpg\">"
   ]
  },
  {
   "cell_type": "markdown",
   "metadata": {
    "slideshow": {
     "slide_type": "subslide"
    }
   },
   "source": [
    "## Interim summary\n",
    "\n"
   ]
  },
  {
   "cell_type": "markdown",
   "metadata": {
    "slideshow": {
     "slide_type": "subslide"
    }
   },
   "source": [
    "**Linguistic typology:** The study of patterns of interlanguage variation indepedent from shared history (phylogetic and/or contact) and its associated methods"
   ]
  },
  {
   "cell_type": "markdown",
   "metadata": {
    "slideshow": {
     "slide_type": "subslide"
    }
   },
   "source": [
    "Through a combination of multivariate typology and data science methods we can make our typologies *broad and deep*"
   ]
  },
  {
   "cell_type": "markdown",
   "metadata": {
    "slideshow": {
     "slide_type": "subslide"
    }
   },
   "source": [
    "<img src=\"Images/trains3.jpg\">"
   ]
  }
 ],
 "metadata": {
  "celltoolbar": "Slideshow",
  "kernelspec": {
   "display_name": "Python 3",
   "language": "python",
   "name": "python3"
  },
  "language_info": {
   "codemirror_mode": {
    "name": "ipython",
    "version": 3
   },
   "file_extension": ".py",
   "mimetype": "text/x-python",
   "name": "python",
   "nbconvert_exporter": "python",
   "pygments_lexer": "ipython3",
   "version": "3.8.10"
  }
 },
 "nbformat": 4,
 "nbformat_minor": 5
}
